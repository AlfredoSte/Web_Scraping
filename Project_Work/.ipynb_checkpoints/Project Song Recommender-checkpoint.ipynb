{
 "cells": [
  {
   "cell_type": "markdown",
   "id": "6c3b2162",
   "metadata": {},
   "source": [
    "### 1) Importing the libaries and data frames"
   ]
  },
  {
   "cell_type": "code",
   "execution_count": 1,
   "id": "fc15a1a8",
   "metadata": {},
   "outputs": [],
   "source": [
    "import json\n",
    "import pandas as pd\n",
    "import spotipy\n",
    "import config\n",
    "from spotipy.oauth2 import SpotifyClientCredentials\n",
    "from sklearn.preprocessing import StandardScaler\n",
    "from sklearn.cluster import KMeans\n",
    "import random\n",
    "import time\n",
    "import sys"
   ]
  },
  {
   "cell_type": "code",
   "execution_count": 8,
   "id": "a5d26f3e",
   "metadata": {},
   "outputs": [],
   "source": [
    "hot_tracks = pd.read_pickle(\"./data/dataframes/hot_tracks\")\n",
    "playlist_df = pd.read_pickle(\"./data/dataframes/playlist_df\")\n",
    "features_scaled = pd.read_pickle(\"./data/dataframes/features_scaled_df\")\n",
    "features_playlist = pd.read_pickle(\"./data/dataframes/features_playlist\")"
   ]
  },
  {
   "cell_type": "markdown",
   "id": "bf3ebcf4",
   "metadata": {},
   "source": [
    "### 2) Authentication to the Spotify API"
   ]
  },
  {
   "cell_type": "code",
   "execution_count": 4,
   "id": "6e6a8575",
   "metadata": {},
   "outputs": [
    {
     "data": {
      "text/plain": [
       "['__builtins__',\n",
       " '__cached__',\n",
       " '__doc__',\n",
       " '__file__',\n",
       " '__loader__',\n",
       " '__name__',\n",
       " '__package__',\n",
       " '__spec__',\n",
       " 'client_id',\n",
       " 'client_secret']"
      ]
     },
     "execution_count": 4,
     "metadata": {},
     "output_type": "execute_result"
    }
   ],
   "source": [
    "dir(config) # see whether it works"
   ]
  },
  {
   "cell_type": "code",
   "execution_count": 18,
   "id": "10355ba1",
   "metadata": {},
   "outputs": [],
   "source": [
    "spotify = spotipy.Spotify(auth_manager=SpotifyClientCredentials(client_id= config.client_id,\n",
    "                                                           client_secret= config.client_secret))\n"
   ]
  },
  {
   "cell_type": "markdown",
   "id": "2e42c1be",
   "metadata": {},
   "source": [
    "### 3) Scaling and clustering the songs"
   ]
  },
  {
   "cell_type": "code",
   "execution_count": 10,
   "id": "14e52eb9",
   "metadata": {},
   "outputs": [],
   "source": [
    "scaler = StandardScaler()\n",
    "features_playlist = playlist_df.iloc[:,4:17]\n",
    "scaler.fit(features_playlist)\n",
    "features_scaled = scaler.transform(features_playlist)\n",
    "features_scaled_df = pd.DataFrame(features_scaled)"
   ]
  },
  {
   "cell_type": "code",
   "execution_count": 11,
   "id": "2b4d2e5d",
   "metadata": {},
   "outputs": [],
   "source": [
    "kmeans = KMeans(n_clusters= 8, random_state = 1234)\n",
    "kmeans.fit(features_scaled)\n",
    "clusters = kmeans.predict(features_scaled)\n",
    "playlist_df[\"cluster\"]=clusters"
   ]
  },
  {
   "cell_type": "markdown",
   "id": "a45fa95f",
   "metadata": {},
   "source": [
    "### 4) Function to extract the unique id of the new song"
   ]
  },
  {
   "cell_type": "code",
   "execution_count": 12,
   "id": "947b554e",
   "metadata": {},
   "outputs": [],
   "source": [
    "def extract_uri(query):\n",
    "    results=spotify.search(q=query, limit=10)\n",
    "    uri=results[\"tracks\"][\"items\"][0][\"uri\"]\n",
    "    song_audio_features = spotify.audio_features(uri)\n",
    "    return song_audio_features"
   ]
  },
  {
   "cell_type": "markdown",
   "id": "2e308be1",
   "metadata": {},
   "source": [
    "### 5) Song recommender algorithm"
   ]
  },
  {
   "cell_type": "code",
   "execution_count": 20,
   "id": "b23db32d",
   "metadata": {},
   "outputs": [
    {
     "name": "stdout",
     "output_type": "stream",
     "text": [
      "Enter a song to get a great recommendation: hello\n",
      "This song is NOT HOT, wait and get a recommandation based on the audio features of your song...\n",
      "Here is your new HOT song \u001b[1m If It'S Love \u001b[0;0m\n",
      "Now you can listen to your new HOT song here: http://open.spotify.com/track/5v2IyRFbo4cEc2vZyGTAs0\n",
      "Thanks for using the music recommender.\n"
     ]
    }
   ],
   "source": [
    "hot_tracks[\"Title\"] = hot_tracks[\"Title\"].apply(lambda x: x.lower())\n",
    "\n",
    "for song in hot_tracks[[\"Title\"]].iterrows():\n",
    "    user_input = input(\"Enter a song to get a great recommendation: \")\n",
    "    if user_input.lower() in list(hot_tracks[\"Title\"]):\n",
    "        print(\"This song is HOT! You deserve an other HOT song...\")\n",
    "        random_song = random.choice(hot_tracks[\"Title\"]).title()\n",
    "        time.sleep(3)\n",
    "        print(\"Here is your HOT song: \", \"\\033[1m\", random_song, \"\\033[0;0m\")\n",
    "        print(\"Thanks for using the music recommender.\")\n",
    "        break\n",
    "    else:\n",
    "        print(\"This song is NOT HOT, wait and get a recommandation based on the audio features of your song...\")\n",
    "        uri_user_input = extract_uri(user_input)\n",
    "        df_user_input = pd.DataFrame(uri_user_input)\n",
    "        df_user_input.drop(df_user_input.columns[[11,12,13,14,15]], axis = 1, inplace = True)\n",
    "        scaler.fit(df_user_input)\n",
    "        song_scaled = scaler.transform(df_user_input)\n",
    "        song_cluster = kmeans.predict(song_scaled)\n",
    "        input_cluster = song_cluster[0]\n",
    "        match = playlist_df.loc[playlist_df[\"cluster\"] == input_cluster]\n",
    "        title = match.sample()[\"names\"].values[0]\n",
    "        song_uri = playlist_df[playlist_df[\"names\"]==title][\"uri\"].values[0]\n",
    "        song_url = song_uri.strip(\"spotify/.\").replace(\":\", \"/\")\n",
    "        time.sleep(4)\n",
    "\n",
    "        print(\"Here is your new HOT song\", \"\\033[1m\", title.title(), \"\\033[0;0m\")\n",
    "        print(\"Now you can listen to your new HOT song here:\", \"http://open.spotify.com\" + song_url)\n",
    "        time.sleep(2)\n",
    "        print(\"Thanks for using the music recommender.\")\n",
    "        break"
   ]
  },
  {
   "cell_type": "code",
   "execution_count": null,
   "id": "c792ed2f",
   "metadata": {},
   "outputs": [],
   "source": [
    " "
   ]
  }
 ],
 "metadata": {
  "kernelspec": {
   "display_name": "Python 3",
   "language": "python",
   "name": "python3"
  },
  "language_info": {
   "codemirror_mode": {
    "name": "ipython",
    "version": 3
   },
   "file_extension": ".py",
   "mimetype": "text/x-python",
   "name": "python",
   "nbconvert_exporter": "python",
   "pygments_lexer": "ipython3",
   "version": "3.8.8"
  }
 },
 "nbformat": 4,
 "nbformat_minor": 5
}
