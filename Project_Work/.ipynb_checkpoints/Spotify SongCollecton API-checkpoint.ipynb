{
 "cells": [
  {
   "cell_type": "code",
   "execution_count": null,
   "id": "ac812eb6",
   "metadata": {},
   "outputs": [],
   "source": [
    "# import config file which is in the same folder\n",
    "import config"
   ]
  },
  {
   "cell_type": "code",
   "execution_count": null,
   "id": "2ecf2499",
   "metadata": {},
   "outputs": [],
   "source": [
    "dir(config)"
   ]
  },
  {
   "cell_type": "markdown",
   "id": "1984c5f8",
   "metadata": {},
   "source": [
    "### 1) Activating the Spotify API"
   ]
  },
  {
   "cell_type": "code",
   "execution_count": null,
   "id": "1046c4bb",
   "metadata": {},
   "outputs": [],
   "source": [
    "import spotipy\n",
    "import json\n",
    "from spotipy.oauth2 import SpotifyClientCredentials\n",
    "\n",
    "#Initialize SpotiPy with user credentias\n",
    "sp = spotipy.Spotify(auth_manager=SpotifyClientCredentials(client_id= config.client_id,\n",
    "                                                           client_secret= config.client_secret))\n",
    "\n",
    "\n",
    "\n",
    "# The \"sp\" variable has TWO USEFUl FUNCTIONS:\n",
    "# The FIRST usefull function is:\n",
    "# .search(q='',limit=n)\n",
    "# .search(q=\"track:\"+song_name+\" artist:\"+artist_name,limit=5) to restrict to a song name and artist.\n",
    "# Where the \"q\" keyword is the query you want to perform on spotify: song_name, artist,...\n",
    "# while The \"limit\" keyword will limit the number of returned results.\n",
    "#\n",
    "# The SECOND usefull function is:\n",
    "# .audio_features([URL|URI|ID])\n",
    "# which returns some 'features of the song', that after cleanup, we can use in order to characterize a song.\n"
   ]
  },
  {
   "cell_type": "code",
   "execution_count": null,
   "id": "16cd2983",
   "metadata": {},
   "outputs": [],
   "source": [
    "# Yann Tiersen is a composer\n",
    "results = sp.search(q='Yann Tiersen', limit=5, market=\"GB\")\n",
    "results\n",
    "#json_results = json.dumps(results, ensure_ascii=True)\n",
    "#json_results\n",
    "#results['tracks']['items'][0]['album']"
   ]
  },
  {
   "cell_type": "code",
   "execution_count": null,
   "id": "0fdc7b70",
   "metadata": {},
   "outputs": [],
   "source": [
    "# in this dic the main key is \"tracks\"\n",
    "results.keys()"
   ]
  },
  {
   "cell_type": "code",
   "execution_count": null,
   "id": "b7e8e048",
   "metadata": {},
   "outputs": [],
   "source": [
    "# the main keys of the main key \"tracks\" are the following (nested dictionary)\n",
    "results['tracks'].keys()"
   ]
  },
  {
   "cell_type": "code",
   "execution_count": null,
   "id": "549ce615",
   "metadata": {},
   "outputs": [],
   "source": [
    "# prettyfing the printing\n",
    "\n",
    "import pprint\n",
    "\n",
    "pprint.pprint(results)"
   ]
  },
  {
   "cell_type": "code",
   "execution_count": null,
   "id": "cf842255",
   "metadata": {},
   "outputs": [],
   "source": [
    "len(results['tracks']['items'])"
   ]
  },
  {
   "cell_type": "code",
   "execution_count": null,
   "id": "8b7df49d",
   "metadata": {},
   "outputs": [],
   "source": [
    "results['tracks']['items'][0]"
   ]
  },
  {
   "cell_type": "code",
   "execution_count": null,
   "id": "23c78f43",
   "metadata": {},
   "outputs": [],
   "source": [
    "results['tracks']['items'][0].keys()"
   ]
  },
  {
   "cell_type": "code",
   "execution_count": null,
   "id": "6748c3b2",
   "metadata": {},
   "outputs": [],
   "source": [
    "results['tracks']['items'][0]['id']"
   ]
  },
  {
   "cell_type": "code",
   "execution_count": null,
   "id": "1fa0e689",
   "metadata": {},
   "outputs": [],
   "source": [
    "# this code allows us to filter from any results JSON the track and the ID\n",
    "\n",
    "for item in results['tracks']['items']:\n",
    "    print(\"The name of song is: '{}' and the id is: {}\".format(item['name'],item['external_urls']['spotify']))"
   ]
  },
  {
   "cell_type": "code",
   "execution_count": null,
   "id": "543e340c",
   "metadata": {},
   "outputs": [],
   "source": [
    "# identfying the features\n",
    "\n",
    "import pandas as pd\n",
    "\n",
    "song = sp.search(q=\"comptine d'un autre été\", limit=1) \n",
    "\n",
    "#pprint.pprint(song['tracks']['items'][0]['uri']) -> we get the id\n",
    "song[\"tracks\"][\"items\"][0][\"uri\"]\n",
    "\n",
    "#isolating the audio feautres of the track\n",
    "sp.audio_features(song[\"tracks\"][\"items\"][0][\"uri\"])[0]\n",
    "\n",
    "#creating a dictionary with the audio feature\n",
    "my_dict = sp.audio_features(song[\"tracks\"][\"items\"][0][\"uri\"])[0] \n",
    "\n",
    "\n",
    "# with this code you can potentally loop a lot of URIs and create a DF with\n",
    "# the relevant feature\n",
    "\n",
    "print(my_dict)\n",
    "my_dict_new = { key: [my_dict[key]] for key in list(my_dict.keys()) }\n",
    "#my_dict_new['name'] = [song[\"tracks\"][\"items\"][0]['name']]\n",
    "print(my_dict_new)\n"
   ]
  },
  {
   "cell_type": "code",
   "execution_count": null,
   "id": "86cfbb9e",
   "metadata": {},
   "outputs": [],
   "source": [
    "# Put the result above into a DF\n",
    "pd.DataFrame(my_dict_new)"
   ]
  },
  {
   "cell_type": "code",
   "execution_count": null,
   "id": "5dd3aee0",
   "metadata": {},
   "outputs": [],
   "source": [
    "sp = spotipy.Spotify(auth_manager=SpotifyClientCredentials(client_id= config.client_id,\n",
    "                                                           client_secret= config.client_secret))\n"
   ]
  },
  {
   "cell_type": "code",
   "execution_count": null,
   "id": "5672bb65",
   "metadata": {},
   "outputs": [],
   "source": [
    "result = sp.search(\"AJR\")\n",
    "track = result['tracks']['items'][0]\n",
    "\n",
    "artist = sp.artist(track[\"artists\"][0][\"external_urls\"][\"spotify\"])\n",
    "print(\"artist genres:\", artist[\"genres\"])"
   ]
  },
  {
   "cell_type": "code",
   "execution_count": null,
   "id": "748b2291",
   "metadata": {},
   "outputs": [],
   "source": [
    "album = sp.album(track[\"album\"][\"external_urls\"][\"spotify\"])\n",
    "print(\"album genres:\", album[\"genres\"])\n",
    "print(\"album release-date:\", album[\"release_date\"])"
   ]
  },
  {
   "cell_type": "code",
   "execution_count": null,
   "id": "c18386a3",
   "metadata": {},
   "outputs": [],
   "source": [
    "# let s search for songs of genre = electronics\n",
    "\n",
    "my_genre = ['edm_dance']\n",
    "\n",
    "long_dict = {}\n",
    "#for artist in my_artists:\n",
    "#    #result = sp.search(q=artist, limit= 50)\n",
    "#    my_dict[artist] = sp.search(q=artist, limit= 50)\n",
    "\n",
    "long_dict = {genre: sp.search(q=genre, limit= 10000) for genre in my_genre}\n",
    "#my_dict\n",
    "long_dict.keys()"
   ]
  },
  {
   "cell_type": "markdown",
   "id": "36ecb816",
   "metadata": {},
   "source": [
    "### 3) Loading tracks with features of a long playlist"
   ]
  },
  {
   "cell_type": "code",
   "execution_count": 1,
   "id": "b5d94af6",
   "metadata": {},
   "outputs": [],
   "source": [
    "import json\n",
    "import pandas as pd\n",
    "import spotipy\n",
    "from spotipy.oauth2 import SpotifyClientCredentials\n",
    "from sklearn.preprocessing import StandardScaler\n",
    "from sklearn.cluster import KMeans\n",
    "# import config file which is in the same folder\n",
    "import config"
   ]
  },
  {
   "cell_type": "markdown",
   "id": "88966ddc",
   "metadata": {},
   "source": [
    "### Defining a function for analyzing playlists¶\n"
   ]
  },
  {
   "cell_type": "code",
   "execution_count": null,
   "id": "9788b03a",
   "metadata": {},
   "outputs": [],
   "source": [
    "spotify = spotipy.Spotify(client_credentials_manager=SpotifyClientCredentials(\n",
    "    client_id='id',\n",
    "    client_secret='secret'))"
   ]
  },
  {
   "cell_type": "code",
   "execution_count": 2,
   "id": "27a56171",
   "metadata": {},
   "outputs": [],
   "source": [
    "import spotipy\n",
    "import json\n",
    "from spotipy.oauth2 import SpotifyClientCredentials\n",
    "\n",
    "#Initialize SpotiPy with user credentias\n",
    "spotify = spotipy.Spotify(auth_manager=SpotifyClientCredentials(client_id= config.client_id,\n",
    "                                                           client_secret= config.client_secret))\n",
    "\n",
    "\n",
    "\n",
    "# The \"sp\" variable has TWO USEFUl FUNCTIONS:\n",
    "# The FIRST usefull function is:\n",
    "# .search(q='',limit=n)\n",
    "# .search(q=\"track:\"+song_name+\" artist:\"+artist_name,limit=5) to restrict to a song name and artist.\n",
    "# Where the \"q\" keyword is the query you want to perform on spotify: song_name, artist,...\n",
    "# while The \"limit\" keyword will limit the number of returned results.\n",
    "#\n",
    "# The SECOND usefull function is:\n",
    "# .audio_features([URL|URI|ID])\n",
    "# which returns some 'features of the song', that after cleanup, we can use in order to characterize a song.\n"
   ]
  },
  {
   "cell_type": "code",
   "execution_count": 9,
   "id": "5277e6c4",
   "metadata": {},
   "outputs": [],
   "source": [
    "def playlist_analyzer(user, playlist_id): \n",
    "    names = []\n",
    "    uris = []\n",
    "    artists = []\n",
    "    popularity = []\n",
    "    danceability = []\n",
    "    energy = []\n",
    "    key = []\n",
    "    loudness = []\n",
    "    mode = []\n",
    "    speechiness = []\n",
    "    acousticness = []\n",
    "    instrumentalness =[]\n",
    "    liveness=[]\n",
    "    valence = []\n",
    "    tempo =[]\n",
    "    duration_ms =[]\n",
    "    time_signature =[]\n",
    "    playlist = spotify.user_playlist_tracks(user=user, playlist_id=playlist_id)\n",
    "    tracks = playlist['items']\n",
    "    \n",
    "    while playlist['next']: # While statement to switch to next page of the playlist\n",
    "        playlist = spotify.next(playlist)\n",
    "        tracks.extend(playlist['items'])\n",
    "   \n",
    "    for item in tracks:\n",
    "        names.append(item[\"track\"][\"name\"])\n",
    "        uri = item[\"track\"][\"uri\"]\n",
    "        uris.append(uri)\n",
    "        popularity.append(item[\"track\"][\"popularity\"])\n",
    "        artists.append([artist[\"name\"] for artist in item[\"track\"][\"artists\"]])\n",
    "        features = spotify.audio_features(uri)[0]\n",
    "        danceability.append(features[\"danceability\"])\n",
    "        energy.append(features[\"energy\"])\n",
    "        key.append(features[\"key\"])\n",
    "        loudness.append(features[\"loudness\"])\n",
    "        mode.append(features[\"mode\"])\n",
    "        speechiness.append(features[\"speechiness\"])\n",
    "        acousticness.append(features[\"acousticness\"])\n",
    "        instrumentalness.append(features[\"instrumentalness\"])\n",
    "        liveness.append(features[\"liveness\"])\n",
    "        valence.append(features[\"valence\"])\n",
    "        tempo.append(features[\"tempo\"])\n",
    "        duration_ms.append(features[\"duration_ms\"])\n",
    "        time_signature.append(features[\"time_signature\"])\n",
    "    \n",
    "    # Creating a df from with the song information\n",
    "    df = pd.DataFrame({\"names\":names, \n",
    "                       \"uri\": uris,\n",
    "                       \"artists\": artists,\n",
    "                       \"popularity\": popularity,\n",
    "                       \"danceability\":danceability,\n",
    "                       \"energy\":energy,\n",
    "                       \"key\": key,\n",
    "                       \"loudness\":loudness,\n",
    "                       \"mode\": mode,\n",
    "                       \"speechiness\":speechiness,\n",
    "                       \"acousticness\":acousticness,\n",
    "                       \"instrumentalness\":instrumentalness,\n",
    "                       \"liveness\": liveness,\n",
    "                       \"valence\":valence,\n",
    "                       \"tempo\": tempo,\n",
    "                       \"duration_ms\":duration_ms,\n",
    "                       \"time_signature\": time_signature})\n",
    "\n",
    "    return df"
   ]
  },
  {
   "cell_type": "markdown",
   "id": "87baafc8",
   "metadata": {},
   "source": [
    "### Getting data from Spotify playlist¶"
   ]
  },
  {
   "cell_type": "code",
   "execution_count": 11,
   "id": "36b03a25",
   "metadata": {},
   "outputs": [],
   "source": [
    "playlist_df = playlist_analyzer(\"spotify\", \"spotify:playlist:6TY1by3xd2yDmwtZuKPKg1\")\n",
    "features_playlist = playlist_df.iloc[:,4:17].copy() #Creating a subset of the df with only the features"
   ]
  },
  {
   "cell_type": "code",
   "execution_count": 12,
   "id": "4de6dbc7",
   "metadata": {},
   "outputs": [
    {
     "name": "stdout",
     "output_type": "stream",
     "text": [
      "                          names                                   uri  \\\n",
      "0                    Bad Habits  spotify:track:6PQ88X9TkUIAUIZJHW2upE   \n",
      "1     STAY (with Justin Bieber)  spotify:track:5HCyWlXZPP0y6Gqq8TgA20   \n",
      "2             You - Topic Remix  spotify:track:5bbtc9t6FcerXp732H2XNu   \n",
      "3                    Heat Waves  spotify:track:02MWAaffLxlfxAUY7c5dvx   \n",
      "4                      good 4 u  spotify:track:6PERP62TejQjgHu81OHxgM   \n",
      "..                          ...                                   ...   \n",
      "145               Hawái - Remix  spotify:track:0GzuHFG4Ql6DoyxFRnIk3F   \n",
      "146  Tick Tock (feat. 24kGoldn)  spotify:track:27u7t9d7ZQoyjsCROHuZJ3   \n",
      "147                    Lemonade  spotify:track:02kDW379Yfd5PzW5A6vuGt   \n",
      "148       Roses - Imanbek Remix  spotify:track:24Yi9hE78yPEbZ4kxyoXAI   \n",
      "149               Lose Somebody  spotify:track:1sgDyuLooyvEML4oHspNza   \n",
      "\n",
      "                                       artists  popularity  danceability  \\\n",
      "0                                 [Ed Sheeran]          97         0.808   \n",
      "1               [The Kid LAROI, Justin Bieber]         100         0.591   \n",
      "2     [Regard, Troye Sivan, Tate McRae, Topic]          64         0.733   \n",
      "3                              [Glass Animals]          86         0.761   \n",
      "4                             [Olivia Rodrigo]          66         0.556   \n",
      "..                                         ...         ...           ...   \n",
      "145                       [Maluma, The Weeknd]          75         0.766   \n",
      "146            [Clean Bandit, Mabel, 24kGoldn]          77         0.779   \n",
      "147  [Internet Money, Gunna, Don Toliver, NAV]          80         0.799   \n",
      "148                       [SAINt JHN, Imanbek]          83         0.770   \n",
      "149                        [Kygo, OneRepublic]          75         0.580   \n",
      "\n",
      "     energy  key  loudness  mode  speechiness  acousticness  instrumentalness  \\\n",
      "0     0.897   11    -3.712     0       0.0348        0.0469          0.000031   \n",
      "1     0.764    1    -5.484     1       0.0483        0.0383          0.000000   \n",
      "2     0.887    6    -5.601     0       0.0692        0.0554          0.000131   \n",
      "3     0.525   11    -6.900     1       0.0944        0.4400          0.000007   \n",
      "4     0.661    6    -5.052     0       0.2040        0.3000          0.000000   \n",
      "..      ...  ...       ...   ...          ...           ...               ...   \n",
      "145   0.788    6    -3.128     0       0.3120        0.1050          0.000006   \n",
      "146   0.705    0    -3.895     1       0.0344        0.3690          0.000008   \n",
      "147   0.660    1    -6.153     0       0.0790        0.2560          0.000000   \n",
      "148   0.724    8    -5.484     1       0.0495        0.0167          0.010700   \n",
      "149   0.586    1    -6.883     1       0.0357        0.3440          0.000000   \n",
      "\n",
      "     liveness  valence    tempo  duration_ms  time_signature  \n",
      "0      0.3640    0.591  126.026       231041               4  \n",
      "1      0.1030    0.478  169.928       141806               4  \n",
      "2      0.2410    0.696  124.025       157160               4  \n",
      "3      0.0921    0.531   80.870       238805               4  \n",
      "4      0.1010    0.668  168.560       178148               4  \n",
      "..        ...      ...      ...          ...             ...  \n",
      "145    0.1420    0.609  179.984       200482               4  \n",
      "146    0.1240    0.946  101.022       178374               4  \n",
      "147    0.1110    0.471  140.040       195429               4  \n",
      "148    0.3530    0.898  121.975       176840               4  \n",
      "149    0.0755    0.507  147.988       199549               4  \n",
      "\n",
      "[150 rows x 17 columns]\n"
     ]
    }
   ],
   "source": [
    "print(playlist_df)"
   ]
  },
  {
   "cell_type": "code",
   "execution_count": 13,
   "id": "80618f91",
   "metadata": {},
   "outputs": [
    {
     "name": "stdout",
     "output_type": "stream",
     "text": [
      "     danceability  energy  key  loudness  mode  speechiness  acousticness  \\\n",
      "0           0.808   0.897   11    -3.712     0       0.0348        0.0469   \n",
      "1           0.591   0.764    1    -5.484     1       0.0483        0.0383   \n",
      "2           0.733   0.887    6    -5.601     0       0.0692        0.0554   \n",
      "3           0.761   0.525   11    -6.900     1       0.0944        0.4400   \n",
      "4           0.556   0.661    6    -5.052     0       0.2040        0.3000   \n",
      "..            ...     ...  ...       ...   ...          ...           ...   \n",
      "145         0.766   0.788    6    -3.128     0       0.3120        0.1050   \n",
      "146         0.779   0.705    0    -3.895     1       0.0344        0.3690   \n",
      "147         0.799   0.660    1    -6.153     0       0.0790        0.2560   \n",
      "148         0.770   0.724    8    -5.484     1       0.0495        0.0167   \n",
      "149         0.580   0.586    1    -6.883     1       0.0357        0.3440   \n",
      "\n",
      "     instrumentalness  liveness  valence    tempo  duration_ms  time_signature  \n",
      "0            0.000031    0.3640    0.591  126.026       231041               4  \n",
      "1            0.000000    0.1030    0.478  169.928       141806               4  \n",
      "2            0.000131    0.2410    0.696  124.025       157160               4  \n",
      "3            0.000007    0.0921    0.531   80.870       238805               4  \n",
      "4            0.000000    0.1010    0.668  168.560       178148               4  \n",
      "..                ...       ...      ...      ...          ...             ...  \n",
      "145          0.000006    0.1420    0.609  179.984       200482               4  \n",
      "146          0.000008    0.1240    0.946  101.022       178374               4  \n",
      "147          0.000000    0.1110    0.471  140.040       195429               4  \n",
      "148          0.010700    0.3530    0.898  121.975       176840               4  \n",
      "149          0.000000    0.0755    0.507  147.988       199549               4  \n",
      "\n",
      "[150 rows x 13 columns]\n"
     ]
    }
   ],
   "source": [
    "print(features_playlist)"
   ]
  },
  {
   "cell_type": "code",
   "execution_count": null,
   "id": "237b8b9b",
   "metadata": {},
   "outputs": [],
   "source": []
  }
 ],
 "metadata": {
  "kernelspec": {
   "display_name": "Python 3",
   "language": "python",
   "name": "python3"
  },
  "language_info": {
   "codemirror_mode": {
    "name": "ipython",
    "version": 3
   },
   "file_extension": ".py",
   "mimetype": "text/x-python",
   "name": "python",
   "nbconvert_exporter": "python",
   "pygments_lexer": "ipython3",
   "version": "3.8.8"
  }
 },
 "nbformat": 4,
 "nbformat_minor": 5
}
